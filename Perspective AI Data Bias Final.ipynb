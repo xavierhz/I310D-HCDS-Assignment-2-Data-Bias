{
 "cells": [
  {
   "cell_type": "markdown",
   "metadata": {},
   "source": [
    "### Perspective API Exploration\n",
    "\n",
    "First, we have a dataset of Wikipedia comments made available by Jigsaw, a subsidiary of Google that created the Perspective tool. The dataset includes a unique comment id, the text of the comment, and a series of binary labels applied by human raters: \"toxic,\" \"severe_toxic,\" \"obscene,\" \"threat,\" \"insult,\" and \"identity_hate.\" I have appended the \"score\" column, which represents the toxicity score assigned to the comment text by the live version of the Perspective API. The data is available under a CC0 license."
   ]
  },
  {
   "cell_type": "code",
   "execution_count": 26,
   "metadata": {},
   "outputs": [],
   "source": [
    "import pandas as pd\n",
    "import time\n",
    "import numpy as np\n",
    "\n",
    "from matplotlib import pyplot as plt\n",
    "\n",
    "df = pd.read_csv('labeled_and_scored_comments.csv')"
   ]
  },
  {
   "cell_type": "code",
   "execution_count": 2,
   "metadata": {},
   "outputs": [
    {
     "data": {
      "text/html": [
       "<div>\n",
       "<style scoped>\n",
       "    .dataframe tbody tr th:only-of-type {\n",
       "        vertical-align: middle;\n",
       "    }\n",
       "\n",
       "    .dataframe tbody tr th {\n",
       "        vertical-align: top;\n",
       "    }\n",
       "\n",
       "    .dataframe thead th {\n",
       "        text-align: right;\n",
       "    }\n",
       "</style>\n",
       "<table border=\"1\" class=\"dataframe\">\n",
       "  <thead>\n",
       "    <tr style=\"text-align: right;\">\n",
       "      <th></th>\n",
       "      <th>id</th>\n",
       "      <th>comment_text</th>\n",
       "      <th>score</th>\n",
       "      <th>toxic</th>\n",
       "      <th>severe_toxic</th>\n",
       "      <th>obscene</th>\n",
       "      <th>threat</th>\n",
       "      <th>insult</th>\n",
       "      <th>identity_hate</th>\n",
       "    </tr>\n",
       "  </thead>\n",
       "  <tbody>\n",
       "    <tr>\n",
       "      <th>1158</th>\n",
       "      <td>61a85266de70cca0</td>\n",
       "      <td>Можешь говорить по русски.</td>\n",
       "      <td>0.000004</td>\n",
       "      <td>0</td>\n",
       "      <td>0</td>\n",
       "      <td>0</td>\n",
       "      <td>0</td>\n",
       "      <td>0</td>\n",
       "      <td>0</td>\n",
       "    </tr>\n",
       "    <tr>\n",
       "      <th>5246</th>\n",
       "      <td>030a9ba0b32b4456</td>\n",
       "      <td>Rodzina Krusenstern Potomkowie Admirała Adama ...</td>\n",
       "      <td>0.000009</td>\n",
       "      <td>0</td>\n",
       "      <td>0</td>\n",
       "      <td>0</td>\n",
       "      <td>0</td>\n",
       "      <td>0</td>\n",
       "      <td>0</td>\n",
       "    </tr>\n",
       "    <tr>\n",
       "      <th>11040</th>\n",
       "      <td>a6814193ac6b4705</td>\n",
       "      <td>The opening paragraph states that the game is ...</td>\n",
       "      <td>0.000091</td>\n",
       "      <td>0</td>\n",
       "      <td>0</td>\n",
       "      <td>0</td>\n",
       "      <td>0</td>\n",
       "      <td>0</td>\n",
       "      <td>0</td>\n",
       "    </tr>\n",
       "    <tr>\n",
       "      <th>24192</th>\n",
       "      <td>f0d6dee96e057a5b</td>\n",
       "      <td>The book is used as a source in a number of ar...</td>\n",
       "      <td>0.000116</td>\n",
       "      <td>0</td>\n",
       "      <td>0</td>\n",
       "      <td>0</td>\n",
       "      <td>0</td>\n",
       "      <td>0</td>\n",
       "      <td>0</td>\n",
       "    </tr>\n",
       "    <tr>\n",
       "      <th>2332</th>\n",
       "      <td>cbb9268d3c7429c1</td>\n",
       "      <td>Vals Vienés \\n |Rumba \\n |Cha Cha Chá(ciclo 7)</td>\n",
       "      <td>0.000131</td>\n",
       "      <td>0</td>\n",
       "      <td>0</td>\n",
       "      <td>0</td>\n",
       "      <td>0</td>\n",
       "      <td>0</td>\n",
       "      <td>0</td>\n",
       "    </tr>\n",
       "    <tr>\n",
       "      <th>...</th>\n",
       "      <td>...</td>\n",
       "      <td>...</td>\n",
       "      <td>...</td>\n",
       "      <td>...</td>\n",
       "      <td>...</td>\n",
       "      <td>...</td>\n",
       "      <td>...</td>\n",
       "      <td>...</td>\n",
       "      <td>...</td>\n",
       "    </tr>\n",
       "    <tr>\n",
       "      <th>19994</th>\n",
       "      <td>1429a2c930688317</td>\n",
       "      <td>you fucking piece of shit</td>\n",
       "      <td>0.997278</td>\n",
       "      <td>1</td>\n",
       "      <td>1</td>\n",
       "      <td>1</td>\n",
       "      <td>0</td>\n",
       "      <td>1</td>\n",
       "      <td>0</td>\n",
       "    </tr>\n",
       "    <tr>\n",
       "      <th>28728</th>\n",
       "      <td>d82e45eb103ad07b</td>\n",
       "      <td>fuck off you stupid aspy asshole</td>\n",
       "      <td>0.997736</td>\n",
       "      <td>1</td>\n",
       "      <td>1</td>\n",
       "      <td>1</td>\n",
       "      <td>0</td>\n",
       "      <td>1</td>\n",
       "      <td>0</td>\n",
       "    </tr>\n",
       "    <tr>\n",
       "      <th>25535</th>\n",
       "      <td>e9b92c6c6b01aeef</td>\n",
       "      <td>FUCK YOU YOU PIECE OF SHIT \\n FUCK YOU YOU PIE...</td>\n",
       "      <td>0.997982</td>\n",
       "      <td>1</td>\n",
       "      <td>1</td>\n",
       "      <td>1</td>\n",
       "      <td>0</td>\n",
       "      <td>1</td>\n",
       "      <td>0</td>\n",
       "    </tr>\n",
       "    <tr>\n",
       "      <th>25945</th>\n",
       "      <td>e783fd267f3a9d3b</td>\n",
       "      <td>FUCK WIKIPEDIA ON WHEELS! \\n\\nFuck off wikiped...</td>\n",
       "      <td>0.998136</td>\n",
       "      <td>1</td>\n",
       "      <td>1</td>\n",
       "      <td>1</td>\n",
       "      <td>0</td>\n",
       "      <td>1</td>\n",
       "      <td>0</td>\n",
       "    </tr>\n",
       "    <tr>\n",
       "      <th>17833</th>\n",
       "      <td>364b6c24210e2345</td>\n",
       "      <td>Fuck you you fucking pig!\\n\\nYou motherfucking...</td>\n",
       "      <td>0.998329</td>\n",
       "      <td>1</td>\n",
       "      <td>0</td>\n",
       "      <td>1</td>\n",
       "      <td>0</td>\n",
       "      <td>1</td>\n",
       "      <td>0</td>\n",
       "    </tr>\n",
       "  </tbody>\n",
       "</table>\n",
       "<p>41338 rows × 9 columns</p>\n",
       "</div>"
      ],
      "text/plain": [
       "                     id                                       comment_text  \\\n",
       "1158   61a85266de70cca0                         Можешь говорить по русски.   \n",
       "5246   030a9ba0b32b4456  Rodzina Krusenstern Potomkowie Admirała Adama ...   \n",
       "11040  a6814193ac6b4705  The opening paragraph states that the game is ...   \n",
       "24192  f0d6dee96e057a5b  The book is used as a source in a number of ar...   \n",
       "2332   cbb9268d3c7429c1     Vals Vienés \\n |Rumba \\n |Cha Cha Chá(ciclo 7)   \n",
       "...                 ...                                                ...   \n",
       "19994  1429a2c930688317                          you fucking piece of shit   \n",
       "28728  d82e45eb103ad07b                   fuck off you stupid aspy asshole   \n",
       "25535  e9b92c6c6b01aeef  FUCK YOU YOU PIECE OF SHIT \\n FUCK YOU YOU PIE...   \n",
       "25945  e783fd267f3a9d3b  FUCK WIKIPEDIA ON WHEELS! \\n\\nFuck off wikiped...   \n",
       "17833  364b6c24210e2345  Fuck you you fucking pig!\\n\\nYou motherfucking...   \n",
       "\n",
       "          score  toxic  severe_toxic  obscene  threat  insult  identity_hate  \n",
       "1158   0.000004      0             0        0       0       0              0  \n",
       "5246   0.000009      0             0        0       0       0              0  \n",
       "11040  0.000091      0             0        0       0       0              0  \n",
       "24192  0.000116      0             0        0       0       0              0  \n",
       "2332   0.000131      0             0        0       0       0              0  \n",
       "...         ...    ...           ...      ...     ...     ...            ...  \n",
       "19994  0.997278      1             1        1       0       1              0  \n",
       "28728  0.997736      1             1        1       0       1              0  \n",
       "25535  0.997982      1             1        1       0       1              0  \n",
       "25945  0.998136      1             1        1       0       1              0  \n",
       "17833  0.998329      1             0        1       0       1              0  \n",
       "\n",
       "[41338 rows x 9 columns]"
      ]
     },
     "execution_count": 2,
     "metadata": {},
     "output_type": "execute_result"
    }
   ],
   "source": [
    "df.sort_values(['score'])"
   ]
  },
  {
   "cell_type": "markdown",
   "metadata": {},
   "source": [
    "I've also included a function to make calls to the Perspective API for your own testing. You will need to generate your own API key according to the instructions in the assignment."
   ]
  },
  {
   "cell_type": "code",
   "execution_count": 3,
   "metadata": {},
   "outputs": [],
   "source": [
    "from googleapiclient.discovery import build\n",
    "import json\n",
    "\n",
    "def get_toxicity_score(comment):\n",
    "    \n",
    "  API_KEY = 'xxxxxxx' # Put your API key here\n",
    "    \n",
    "  client = build(\n",
    "  \"commentanalyzer\",\n",
    "  \"v1alpha1\",\n",
    "  developerKey=API_KEY,\n",
    "  discoveryServiceUrl=\"https://commentanalyzer.googleapis.com/$discovery/rest?version=v1alpha1\",\n",
    "  #static_discovery=False,\n",
    "  )\n",
    "\n",
    "  analyze_request = {\n",
    "  'comment': { 'text': comment },\n",
    "  'requestedAttributes': {'TOXICITY': {}}\n",
    "  }\n",
    "    \n",
    "  response = client.comments().analyze(body=analyze_request).execute()\n",
    "  toxicity_score = response[\"attributeScores\"][\"TOXICITY\"][\"summaryScore\"][\"value\"]\n",
    "    \n",
    "  return toxicity_score"
   ]
  },
  {
   "cell_type": "markdown",
   "metadata": {},
   "source": [
    "We can call this function with original comments like this:"
   ]
  },
  {
   "cell_type": "code",
   "execution_count": 4,
   "metadata": {},
   "outputs": [
    {
     "data": {
      "text/plain": [
       "0.040628307"
      ]
     },
     "execution_count": 4,
     "metadata": {},
     "output_type": "execute_result"
    }
   ],
   "source": [
    "get_toxicity_score(\"I love you\")"
   ]
  },
  {
   "cell_type": "markdown",
   "metadata": {},
   "source": [
    "Due to the constraint of one request per second, we should insert a time.sleep() statement between consecutive API calls, which will pause execution for one second."
   ]
  },
  {
   "cell_type": "code",
   "execution_count": 5,
   "metadata": {},
   "outputs": [
    {
     "name": "stdout",
     "output_type": "stream",
     "text": [
      "hello 0.02397547\n",
      "how are you 0.018187003\n",
      "fine thanks 0.014022041\n"
     ]
    }
   ],
   "source": [
    "comment_list = ['hello', 'how are you', 'fine thanks']\n",
    "score_list = []\n",
    "\n",
    "for comment in comment_list:\n",
    "    score = get_toxicity_score(comment)\n",
    "    score_list.append(score)\n",
    "    print(comment, score)\n",
    "    time.sleep(1)"
   ]
  },
  {
   "cell_type": "code",
   "execution_count": 6,
   "metadata": {},
   "outputs": [
    {
     "data": {
      "text/plain": [
       "[0.02397547, 0.018187003, 0.014022041]"
      ]
     },
     "execution_count": 6,
     "metadata": {},
     "output_type": "execute_result"
    }
   ],
   "source": [
    "score_list"
   ]
  },
  {
   "cell_type": "code",
   "execution_count": 7,
   "metadata": {},
   "outputs": [],
   "source": [
    "new_df = pd.DataFrame({'comment': comment_list, 'score': score_list})"
   ]
  },
  {
   "cell_type": "code",
   "execution_count": 8,
   "metadata": {},
   "outputs": [
    {
     "data": {
      "text/html": [
       "<div>\n",
       "<style scoped>\n",
       "    .dataframe tbody tr th:only-of-type {\n",
       "        vertical-align: middle;\n",
       "    }\n",
       "\n",
       "    .dataframe tbody tr th {\n",
       "        vertical-align: top;\n",
       "    }\n",
       "\n",
       "    .dataframe thead th {\n",
       "        text-align: right;\n",
       "    }\n",
       "</style>\n",
       "<table border=\"1\" class=\"dataframe\">\n",
       "  <thead>\n",
       "    <tr style=\"text-align: right;\">\n",
       "      <th></th>\n",
       "      <th>score</th>\n",
       "    </tr>\n",
       "  </thead>\n",
       "  <tbody>\n",
       "    <tr>\n",
       "      <th>count</th>\n",
       "      <td>3.000000</td>\n",
       "    </tr>\n",
       "    <tr>\n",
       "      <th>mean</th>\n",
       "      <td>0.018728</td>\n",
       "    </tr>\n",
       "    <tr>\n",
       "      <th>std</th>\n",
       "      <td>0.004999</td>\n",
       "    </tr>\n",
       "    <tr>\n",
       "      <th>min</th>\n",
       "      <td>0.014022</td>\n",
       "    </tr>\n",
       "    <tr>\n",
       "      <th>25%</th>\n",
       "      <td>0.016105</td>\n",
       "    </tr>\n",
       "    <tr>\n",
       "      <th>50%</th>\n",
       "      <td>0.018187</td>\n",
       "    </tr>\n",
       "    <tr>\n",
       "      <th>75%</th>\n",
       "      <td>0.021081</td>\n",
       "    </tr>\n",
       "    <tr>\n",
       "      <th>max</th>\n",
       "      <td>0.023975</td>\n",
       "    </tr>\n",
       "  </tbody>\n",
       "</table>\n",
       "</div>"
      ],
      "text/plain": [
       "          score\n",
       "count  3.000000\n",
       "mean   0.018728\n",
       "std    0.004999\n",
       "min    0.014022\n",
       "25%    0.016105\n",
       "50%    0.018187\n",
       "75%    0.021081\n",
       "max    0.023975"
      ]
     },
     "execution_count": 8,
     "metadata": {},
     "output_type": "execute_result"
    }
   ],
   "source": [
    "new_df.describe()"
   ]
  },
  {
   "cell_type": "code",
   "execution_count": 9,
   "metadata": {},
   "outputs": [
    {
     "data": {
      "text/html": [
       "<div>\n",
       "<style scoped>\n",
       "    .dataframe tbody tr th:only-of-type {\n",
       "        vertical-align: middle;\n",
       "    }\n",
       "\n",
       "    .dataframe tbody tr th {\n",
       "        vertical-align: top;\n",
       "    }\n",
       "\n",
       "    .dataframe thead th {\n",
       "        text-align: right;\n",
       "    }\n",
       "</style>\n",
       "<table border=\"1\" class=\"dataframe\">\n",
       "  <thead>\n",
       "    <tr style=\"text-align: right;\">\n",
       "      <th></th>\n",
       "      <th>id</th>\n",
       "      <th>comment_text</th>\n",
       "      <th>score</th>\n",
       "      <th>toxic</th>\n",
       "      <th>severe_toxic</th>\n",
       "      <th>obscene</th>\n",
       "      <th>threat</th>\n",
       "      <th>insult</th>\n",
       "      <th>identity_hate</th>\n",
       "    </tr>\n",
       "  </thead>\n",
       "  <tbody>\n",
       "    <tr>\n",
       "      <th>0</th>\n",
       "      <td>0001ea8717f6de06</td>\n",
       "      <td>Thank you for understanding. I think very high...</td>\n",
       "      <td>0.075638</td>\n",
       "      <td>0</td>\n",
       "      <td>0</td>\n",
       "      <td>0</td>\n",
       "      <td>0</td>\n",
       "      <td>0</td>\n",
       "      <td>0</td>\n",
       "    </tr>\n",
       "    <tr>\n",
       "      <th>1</th>\n",
       "      <td>000247e83dcc1211</td>\n",
       "      <td>:Dear god this site is horrible.</td>\n",
       "      <td>0.450459</td>\n",
       "      <td>0</td>\n",
       "      <td>0</td>\n",
       "      <td>0</td>\n",
       "      <td>0</td>\n",
       "      <td>0</td>\n",
       "      <td>0</td>\n",
       "    </tr>\n",
       "    <tr>\n",
       "      <th>2</th>\n",
       "      <td>0002f87b16116a7f</td>\n",
       "      <td>\"::: Somebody will invariably try to add Relig...</td>\n",
       "      <td>0.667964</td>\n",
       "      <td>0</td>\n",
       "      <td>0</td>\n",
       "      <td>0</td>\n",
       "      <td>0</td>\n",
       "      <td>0</td>\n",
       "      <td>0</td>\n",
       "    </tr>\n",
       "    <tr>\n",
       "      <th>3</th>\n",
       "      <td>0003e1cccfd5a40a</td>\n",
       "      <td>\" \\n\\n It says it right there that it IS a typ...</td>\n",
       "      <td>0.068434</td>\n",
       "      <td>0</td>\n",
       "      <td>0</td>\n",
       "      <td>0</td>\n",
       "      <td>0</td>\n",
       "      <td>0</td>\n",
       "      <td>0</td>\n",
       "    </tr>\n",
       "    <tr>\n",
       "      <th>4</th>\n",
       "      <td>00059ace3e3e9a53</td>\n",
       "      <td>\" \\n\\n == Before adding a new product to the l...</td>\n",
       "      <td>0.151724</td>\n",
       "      <td>0</td>\n",
       "      <td>0</td>\n",
       "      <td>0</td>\n",
       "      <td>0</td>\n",
       "      <td>0</td>\n",
       "      <td>0</td>\n",
       "    </tr>\n",
       "  </tbody>\n",
       "</table>\n",
       "</div>"
      ],
      "text/plain": [
       "                 id                                       comment_text  \\\n",
       "0  0001ea8717f6de06  Thank you for understanding. I think very high...   \n",
       "1  000247e83dcc1211                   :Dear god this site is horrible.   \n",
       "2  0002f87b16116a7f  \"::: Somebody will invariably try to add Relig...   \n",
       "3  0003e1cccfd5a40a  \" \\n\\n It says it right there that it IS a typ...   \n",
       "4  00059ace3e3e9a53  \" \\n\\n == Before adding a new product to the l...   \n",
       "\n",
       "      score  toxic  severe_toxic  obscene  threat  insult  identity_hate  \n",
       "0  0.075638      0             0        0       0       0              0  \n",
       "1  0.450459      0             0        0       0       0              0  \n",
       "2  0.667964      0             0        0       0       0              0  \n",
       "3  0.068434      0             0        0       0       0              0  \n",
       "4  0.151724      0             0        0       0       0              0  "
      ]
     },
     "execution_count": 9,
     "metadata": {},
     "output_type": "execute_result"
    }
   ],
   "source": [
    "df.head()"
   ]
  },
  {
   "cell_type": "code",
   "execution_count": 10,
   "metadata": {
    "scrolled": false
   },
   "outputs": [
    {
     "data": {
      "text/html": [
       "<div>\n",
       "<style scoped>\n",
       "    .dataframe tbody tr th:only-of-type {\n",
       "        vertical-align: middle;\n",
       "    }\n",
       "\n",
       "    .dataframe tbody tr th {\n",
       "        vertical-align: top;\n",
       "    }\n",
       "\n",
       "    .dataframe thead th {\n",
       "        text-align: right;\n",
       "    }\n",
       "</style>\n",
       "<table border=\"1\" class=\"dataframe\">\n",
       "  <thead>\n",
       "    <tr style=\"text-align: right;\">\n",
       "      <th></th>\n",
       "      <th>id</th>\n",
       "      <th>comment_text</th>\n",
       "      <th>score</th>\n",
       "      <th>toxic</th>\n",
       "      <th>severe_toxic</th>\n",
       "      <th>obscene</th>\n",
       "      <th>threat</th>\n",
       "      <th>insult</th>\n",
       "      <th>identity_hate</th>\n",
       "    </tr>\n",
       "  </thead>\n",
       "  <tbody>\n",
       "    <tr>\n",
       "      <th>8</th>\n",
       "      <td>00091c35fa9d0465</td>\n",
       "      <td>== Arabs are committing genocide in Iraq, but ...</td>\n",
       "      <td>0.635929</td>\n",
       "      <td>1</td>\n",
       "      <td>0</td>\n",
       "      <td>0</td>\n",
       "      <td>0</td>\n",
       "      <td>0</td>\n",
       "      <td>0</td>\n",
       "    </tr>\n",
       "    <tr>\n",
       "      <th>24</th>\n",
       "      <td>0013fed3aeae76b7</td>\n",
       "      <td>DJ Robinson is gay as hell! he sucks his dick ...</td>\n",
       "      <td>0.989706</td>\n",
       "      <td>1</td>\n",
       "      <td>0</td>\n",
       "      <td>1</td>\n",
       "      <td>0</td>\n",
       "      <td>1</td>\n",
       "      <td>1</td>\n",
       "    </tr>\n",
       "    <tr>\n",
       "      <th>29</th>\n",
       "      <td>0017d4d47894af05</td>\n",
       "      <td>:Fuck off, you anti-semitic cunt.  |</td>\n",
       "      <td>0.959459</td>\n",
       "      <td>1</td>\n",
       "      <td>0</td>\n",
       "      <td>1</td>\n",
       "      <td>0</td>\n",
       "      <td>1</td>\n",
       "      <td>0</td>\n",
       "    </tr>\n",
       "    <tr>\n",
       "      <th>37</th>\n",
       "      <td>001d739c97bc2ae4</td>\n",
       "      <td>How dare you vandalize that page about the HMS...</td>\n",
       "      <td>0.564152</td>\n",
       "      <td>1</td>\n",
       "      <td>0</td>\n",
       "      <td>0</td>\n",
       "      <td>0</td>\n",
       "      <td>0</td>\n",
       "      <td>0</td>\n",
       "    </tr>\n",
       "    <tr>\n",
       "      <th>38</th>\n",
       "      <td>001eff4007dbb65b</td>\n",
       "      <td>::No, he is an arrogant, self serving, immatur...</td>\n",
       "      <td>0.956893</td>\n",
       "      <td>1</td>\n",
       "      <td>0</td>\n",
       "      <td>1</td>\n",
       "      <td>0</td>\n",
       "      <td>1</td>\n",
       "      <td>0</td>\n",
       "    </tr>\n",
       "    <tr>\n",
       "      <th>...</th>\n",
       "      <td>...</td>\n",
       "      <td>...</td>\n",
       "      <td>...</td>\n",
       "      <td>...</td>\n",
       "      <td>...</td>\n",
       "      <td>...</td>\n",
       "      <td>...</td>\n",
       "      <td>...</td>\n",
       "      <td>...</td>\n",
       "    </tr>\n",
       "    <tr>\n",
       "      <th>41297</th>\n",
       "      <td>94a6beeb87ab68c0</td>\n",
       "      <td>Damn, those are some rancid sources.</td>\n",
       "      <td>0.821990</td>\n",
       "      <td>1</td>\n",
       "      <td>0</td>\n",
       "      <td>1</td>\n",
       "      <td>0</td>\n",
       "      <td>0</td>\n",
       "      <td>0</td>\n",
       "    </tr>\n",
       "    <tr>\n",
       "      <th>41299</th>\n",
       "      <td>94a5024323152cd1</td>\n",
       "      <td>==Why does it bother you, fuckface?89.123.100....</td>\n",
       "      <td>0.989706</td>\n",
       "      <td>1</td>\n",
       "      <td>0</td>\n",
       "      <td>1</td>\n",
       "      <td>0</td>\n",
       "      <td>1</td>\n",
       "      <td>0</td>\n",
       "    </tr>\n",
       "    <tr>\n",
       "      <th>41325</th>\n",
       "      <td>948cb4052152869b</td>\n",
       "      <td>WHAT?  That's past stuff.  Stop being an insti...</td>\n",
       "      <td>0.515460</td>\n",
       "      <td>1</td>\n",
       "      <td>0</td>\n",
       "      <td>0</td>\n",
       "      <td>0</td>\n",
       "      <td>0</td>\n",
       "      <td>0</td>\n",
       "    </tr>\n",
       "    <tr>\n",
       "      <th>41332</th>\n",
       "      <td>9481cd7393b583c9</td>\n",
       "      <td>RE: \\n\\nIt's a fucking album cover, how the fu...</td>\n",
       "      <td>0.932649</td>\n",
       "      <td>1</td>\n",
       "      <td>0</td>\n",
       "      <td>1</td>\n",
       "      <td>0</td>\n",
       "      <td>0</td>\n",
       "      <td>0</td>\n",
       "    </tr>\n",
       "    <tr>\n",
       "      <th>41333</th>\n",
       "      <td>9480bff99f91a69e</td>\n",
       "      <td>Lesbian Teenager \\nHow about the fact she was ...</td>\n",
       "      <td>0.797672</td>\n",
       "      <td>1</td>\n",
       "      <td>0</td>\n",
       "      <td>0</td>\n",
       "      <td>0</td>\n",
       "      <td>0</td>\n",
       "      <td>0</td>\n",
       "    </tr>\n",
       "  </tbody>\n",
       "</table>\n",
       "<p>3943 rows × 9 columns</p>\n",
       "</div>"
      ],
      "text/plain": [
       "                     id                                       comment_text  \\\n",
       "8      00091c35fa9d0465  == Arabs are committing genocide in Iraq, but ...   \n",
       "24     0013fed3aeae76b7  DJ Robinson is gay as hell! he sucks his dick ...   \n",
       "29     0017d4d47894af05               :Fuck off, you anti-semitic cunt.  |   \n",
       "37     001d739c97bc2ae4  How dare you vandalize that page about the HMS...   \n",
       "38     001eff4007dbb65b  ::No, he is an arrogant, self serving, immatur...   \n",
       "...                 ...                                                ...   \n",
       "41297  94a6beeb87ab68c0               Damn, those are some rancid sources.   \n",
       "41299  94a5024323152cd1  ==Why does it bother you, fuckface?89.123.100....   \n",
       "41325  948cb4052152869b  WHAT?  That's past stuff.  Stop being an insti...   \n",
       "41332  9481cd7393b583c9  RE: \\n\\nIt's a fucking album cover, how the fu...   \n",
       "41333  9480bff99f91a69e  Lesbian Teenager \\nHow about the fact she was ...   \n",
       "\n",
       "          score  toxic  severe_toxic  obscene  threat  insult  identity_hate  \n",
       "8      0.635929      1             0        0       0       0              0  \n",
       "24     0.989706      1             0        1       0       1              1  \n",
       "29     0.959459      1             0        1       0       1              0  \n",
       "37     0.564152      1             0        0       0       0              0  \n",
       "38     0.956893      1             0        1       0       1              0  \n",
       "...         ...    ...           ...      ...     ...     ...            ...  \n",
       "41297  0.821990      1             0        1       0       0              0  \n",
       "41299  0.989706      1             0        1       0       1              0  \n",
       "41325  0.515460      1             0        0       0       0              0  \n",
       "41332  0.932649      1             0        1       0       0              0  \n",
       "41333  0.797672      1             0        0       0       0              0  \n",
       "\n",
       "[3943 rows x 9 columns]"
      ]
     },
     "execution_count": 10,
     "metadata": {},
     "output_type": "execute_result"
    }
   ],
   "source": [
    "df[df['toxic']==1]"
   ]
  },
  {
   "cell_type": "code",
   "execution_count": 11,
   "metadata": {
    "scrolled": true
   },
   "outputs": [
    {
     "data": {
      "text/html": [
       "<div>\n",
       "<style scoped>\n",
       "    .dataframe tbody tr th:only-of-type {\n",
       "        vertical-align: middle;\n",
       "    }\n",
       "\n",
       "    .dataframe tbody tr th {\n",
       "        vertical-align: top;\n",
       "    }\n",
       "\n",
       "    .dataframe thead th {\n",
       "        text-align: right;\n",
       "    }\n",
       "</style>\n",
       "<table border=\"1\" class=\"dataframe\">\n",
       "  <thead>\n",
       "    <tr style=\"text-align: right;\">\n",
       "      <th></th>\n",
       "      <th>id</th>\n",
       "      <th>comment_text</th>\n",
       "      <th>score</th>\n",
       "      <th>toxic</th>\n",
       "      <th>severe_toxic</th>\n",
       "      <th>obscene</th>\n",
       "      <th>threat</th>\n",
       "      <th>insult</th>\n",
       "      <th>identity_hate</th>\n",
       "    </tr>\n",
       "  </thead>\n",
       "  <tbody>\n",
       "    <tr>\n",
       "      <th>8</th>\n",
       "      <td>00091c35fa9d0465</td>\n",
       "      <td>== Arabs are committing genocide in Iraq, but ...</td>\n",
       "      <td>0.635929</td>\n",
       "      <td>1</td>\n",
       "      <td>0</td>\n",
       "      <td>0</td>\n",
       "      <td>0</td>\n",
       "      <td>0</td>\n",
       "      <td>0</td>\n",
       "    </tr>\n",
       "    <tr>\n",
       "      <th>24</th>\n",
       "      <td>0013fed3aeae76b7</td>\n",
       "      <td>DJ Robinson is gay as hell! he sucks his dick ...</td>\n",
       "      <td>0.989706</td>\n",
       "      <td>1</td>\n",
       "      <td>0</td>\n",
       "      <td>1</td>\n",
       "      <td>0</td>\n",
       "      <td>1</td>\n",
       "      <td>1</td>\n",
       "    </tr>\n",
       "    <tr>\n",
       "      <th>29</th>\n",
       "      <td>0017d4d47894af05</td>\n",
       "      <td>:Fuck off, you anti-semitic cunt.  |</td>\n",
       "      <td>0.959459</td>\n",
       "      <td>1</td>\n",
       "      <td>0</td>\n",
       "      <td>1</td>\n",
       "      <td>0</td>\n",
       "      <td>1</td>\n",
       "      <td>0</td>\n",
       "    </tr>\n",
       "    <tr>\n",
       "      <th>37</th>\n",
       "      <td>001d739c97bc2ae4</td>\n",
       "      <td>How dare you vandalize that page about the HMS...</td>\n",
       "      <td>0.564152</td>\n",
       "      <td>1</td>\n",
       "      <td>0</td>\n",
       "      <td>0</td>\n",
       "      <td>0</td>\n",
       "      <td>0</td>\n",
       "      <td>0</td>\n",
       "    </tr>\n",
       "    <tr>\n",
       "      <th>38</th>\n",
       "      <td>001eff4007dbb65b</td>\n",
       "      <td>::No, he is an arrogant, self serving, immatur...</td>\n",
       "      <td>0.956893</td>\n",
       "      <td>1</td>\n",
       "      <td>0</td>\n",
       "      <td>1</td>\n",
       "      <td>0</td>\n",
       "      <td>1</td>\n",
       "      <td>0</td>\n",
       "    </tr>\n",
       "  </tbody>\n",
       "</table>\n",
       "</div>"
      ],
      "text/plain": [
       "                  id                                       comment_text  \\\n",
       "8   00091c35fa9d0465  == Arabs are committing genocide in Iraq, but ...   \n",
       "24  0013fed3aeae76b7  DJ Robinson is gay as hell! he sucks his dick ...   \n",
       "29  0017d4d47894af05               :Fuck off, you anti-semitic cunt.  |   \n",
       "37  001d739c97bc2ae4  How dare you vandalize that page about the HMS...   \n",
       "38  001eff4007dbb65b  ::No, he is an arrogant, self serving, immatur...   \n",
       "\n",
       "       score  toxic  severe_toxic  obscene  threat  insult  identity_hate  \n",
       "8   0.635929      1             0        0       0       0              0  \n",
       "24  0.989706      1             0        1       0       1              1  \n",
       "29  0.959459      1             0        1       0       1              0  \n",
       "37  0.564152      1             0        0       0       0              0  \n",
       "38  0.956893      1             0        1       0       1              0  "
      ]
     },
     "execution_count": 11,
     "metadata": {},
     "output_type": "execute_result"
    }
   ],
   "source": [
    "df[(df['toxic']==1)|(df['severe_toxic']==1)].head()"
   ]
  },
  {
   "cell_type": "code",
   "execution_count": 12,
   "metadata": {},
   "outputs": [
    {
     "data": {
      "text/plain": [
       "0    34925\n",
       "1     6413\n",
       "Name: prediction, dtype: int64"
      ]
     },
     "execution_count": 12,
     "metadata": {},
     "output_type": "execute_result"
    }
   ],
   "source": [
    "threshold = 0.5\n",
    "\n",
    "df['prediction'] = (df['score'] > threshold).astype(int)\n",
    "df['prediction'].value_counts()"
   ]
  },
  {
   "cell_type": "code",
   "execution_count": 13,
   "metadata": {},
   "outputs": [],
   "source": [
    "from sklearn.metrics import confusion_matrix"
   ]
  },
  {
   "cell_type": "code",
   "execution_count": 14,
   "metadata": {},
   "outputs": [
    {
     "data": {
      "text/plain": [
       "array([[34677,  2718],\n",
       "       [  248,  3695]], dtype=int64)"
      ]
     },
     "execution_count": 14,
     "metadata": {},
     "output_type": "execute_result"
    }
   ],
   "source": [
    "confusion_matrix(df['toxic'], df['prediction'])"
   ]
  },
  {
   "cell_type": "markdown",
   "metadata": {},
   "source": [
    "# Hypothesis"
   ]
  },
  {
   "cell_type": "markdown",
   "metadata": {},
   "source": [
    "Using the Perspective API client to score the toxicity of each comment, I wish to compare the toxicity scores of comments containing insults towards hispanic people and white people. \n",
    "\n",
    "Hypothesis: Perspective API will assign a higher toxicity score to insulting comments towards white people than those left towards hispanic people. "
   ]
  },
  {
   "cell_type": "markdown",
   "metadata": {},
   "source": [
    "# Test"
   ]
  },
  {
   "cell_type": "markdown",
   "metadata": {},
   "source": [
    "To compare the toxicity scores given to insulting comments by Perspective API, parallel comments towards white and hispanic people will be created. \n",
    "\n",
    "For example, one comment may read \"WHITE PEOPLE SUCK\" while the other states \"HISPANIC PEOPLE SUCK\". The toxicity scores from these comments will be found then compared. 15 insulting comments towards white people and 15 insulting comments towards hispanic people will be analyzed. Therefore, our total sample size will be 30 comments. \n",
    "\n",
    "After initial comparisons, a threshold will be developed to categorize the insulting comments as toxic or severely-toxic. "
   ]
  },
  {
   "cell_type": "code",
   "execution_count": 15,
   "metadata": {},
   "outputs": [
    {
     "name": "stdout",
     "output_type": "stream",
     "text": [
      "white people SMELL like burgers!! 0.77806646\n",
      "WHITE PEOPLE SUCK 0.9646382\n",
      "White people need to go back to where they came from >:( 0.630413\n",
      "white people need to FUCK OFF!! 0.9850823\n",
      "YOU WHITES ARE RUINING THE COUNTRY! 0.8346757\n",
      "There are too many white people in Austin :( 0.39230084\n",
      "WHITES MAKE TERRIBLE FOOD 0.6556601\n",
      "WHITE BITCHES MUST DIE! 0.9875341\n",
      "White people need to be removed from the world 0.8763571\n",
      "white people are not slay. 0.2712817\n",
      "I could never trust a white person. 0.67902285\n",
      "I pray to God that he saves us from the white people 0.6556601\n",
      "HISPANIC PEOPLE >>> white people 0.456592\n",
      "the hispanics outsold. white people are in their flop era 0.39694545\n",
      "white people are not serving looks, period. 0.5810591\n"
     ]
    }
   ],
   "source": [
    "# list of insulting comments towards white people\n",
    "white_comment_list = ['white people SMELL like burgers!!', 'WHITE PEOPLE SUCK', \"White people need to go back to where they came from >:(\", 'white people need to FUCK OFF!!', 'YOU WHITES ARE RUINING THE COUNTRY!', \"There are too many white people in Austin :(\", \"WHITES MAKE TERRIBLE FOOD\", 'WHITE BITCHES MUST DIE!', 'White people need to be removed from the world', 'white people are not slay.', 'I could never trust a white person.', 'I pray to God that he saves us from the white people', \"HISPANIC PEOPLE >>> white people\", 'the hispanics outsold. white people are in their flop era', 'white people are not serving looks, period.']\n",
    "white_score_list = []\n",
    "\n",
    "for comment in white_comment_list:\n",
    "    score = get_toxicity_score(comment)\n",
    "    white_score_list.append(score)\n",
    "    print(comment, score)\n",
    "    time.sleep(1)"
   ]
  },
  {
   "cell_type": "code",
   "execution_count": 16,
   "metadata": {},
   "outputs": [
    {
     "name": "stdout",
     "output_type": "stream",
     "text": [
      "hispanic people SMELL like tacos!! 0.7699882\n",
      "HISPANIC PEOPLE SUCK 0.95473075\n",
      "Hispanic people need to go back to where they came from >:( 0.59863794\n",
      "hispanic people need to FUCK OFF!! 0.9863082\n",
      "YOU HISPANICS ARE RUINING THE COUNTRY! 0.83020335\n",
      "There are too many hispanic people in Austin :( 0.2818683\n",
      "HISPANICS MAKE TERRIBLE FOOD 0.5958905\n",
      "HISPANIC BITCHES MUST DIE! 0.9850823\n",
      "Hispanic people need to be removed from the world 0.8346757\n",
      "hispanic people are not slay. 0.1609341\n",
      "I could never trust a hispanic person. 0.68288773\n",
      "I pray to God that he saves us from the hispanic people 0.60845\n",
      "WHITE PEOPLE >>> hispanic people 0.4945446\n",
      "the whites outsold. hispanic people are in their flop era 0.38959074\n",
      "hispanic people are not serving looks, period.  0.49835235\n"
     ]
    }
   ],
   "source": [
    "# list of insulting comments towards hispanic people\n",
    "hispanic_comment_list = ['hispanic people SMELL like tacos!!', 'HISPANIC PEOPLE SUCK', \"Hispanic people need to go back to where they came from >:(\", 'hispanic people need to FUCK OFF!!', 'YOU HISPANICS ARE RUINING THE COUNTRY!', \"There are too many hispanic people in Austin :(\", 'HISPANICS MAKE TERRIBLE FOOD', \"HISPANIC BITCHES MUST DIE!\", 'Hispanic people need to be removed from the world', 'hispanic people are not slay.', 'I could never trust a hispanic person.', 'I pray to God that he saves us from the hispanic people', \"WHITE PEOPLE >>> hispanic people\", \"the whites outsold. hispanic people are in their flop era\", 'hispanic people are not serving looks, period. ']\n",
    "hispanic_score_list = []\n",
    "\n",
    "for comment in hispanic_comment_list:\n",
    "    score = get_toxicity_score(comment)\n",
    "    hispanic_score_list.append(score)\n",
    "    print(comment, score)\n",
    "    time.sleep(1)"
   ]
  },
  {
   "cell_type": "code",
   "execution_count": 17,
   "metadata": {},
   "outputs": [
    {
     "data": {
      "text/plain": [
       "[0.77806646,\n",
       " 0.9646382,\n",
       " 0.630413,\n",
       " 0.9850823,\n",
       " 0.8346757,\n",
       " 0.39230084,\n",
       " 0.6556601,\n",
       " 0.9875341,\n",
       " 0.8763571,\n",
       " 0.2712817,\n",
       " 0.67902285,\n",
       " 0.6556601,\n",
       " 0.456592,\n",
       " 0.39694545,\n",
       " 0.5810591]"
      ]
     },
     "execution_count": 17,
     "metadata": {},
     "output_type": "execute_result"
    }
   ],
   "source": [
    "white_score_list"
   ]
  },
  {
   "cell_type": "code",
   "execution_count": 18,
   "metadata": {},
   "outputs": [
    {
     "data": {
      "text/plain": [
       "[0.7699882,\n",
       " 0.95473075,\n",
       " 0.59863794,\n",
       " 0.9863082,\n",
       " 0.83020335,\n",
       " 0.2818683,\n",
       " 0.5958905,\n",
       " 0.9850823,\n",
       " 0.8346757,\n",
       " 0.1609341,\n",
       " 0.68288773,\n",
       " 0.60845,\n",
       " 0.4945446,\n",
       " 0.38959074,\n",
       " 0.49835235]"
      ]
     },
     "execution_count": 18,
     "metadata": {},
     "output_type": "execute_result"
    }
   ],
   "source": [
    "hispanic_score_list"
   ]
  },
  {
   "cell_type": "markdown",
   "metadata": {},
   "source": [
    "Lists were created to store the toxicity scores given to insulting comments of both groups. The average of these scores will now be calculated to give us an idea if the Perspective AI gives an overall higher toxicity score to insulting comments towards white people than those of hispanic people. "
   ]
  },
  {
   "cell_type": "code",
   "execution_count": 19,
   "metadata": {},
   "outputs": [
    {
     "data": {
      "text/plain": [
       "0.6763526000000001"
      ]
     },
     "execution_count": 19,
     "metadata": {},
     "output_type": "execute_result"
    }
   ],
   "source": [
    "sum(white_score_list) / len(white_score_list)"
   ]
  },
  {
   "cell_type": "code",
   "execution_count": 20,
   "metadata": {},
   "outputs": [
    {
     "data": {
      "text/plain": [
       "0.6448096506666665"
      ]
     },
     "execution_count": 20,
     "metadata": {},
     "output_type": "execute_result"
    }
   ],
   "source": [
    "sum(hispanic_score_list) / len(hispanic_score_list)"
   ]
  },
  {
   "cell_type": "markdown",
   "metadata": {},
   "source": [
    "As seen by the averages of toxicity scores given to insulting comments of both groups, the Perspective AI assigned higher toxicity scores to insulting comments made towards white people than those left towards hispanic people. "
   ]
  },
  {
   "cell_type": "code",
   "execution_count": 21,
   "metadata": {},
   "outputs": [],
   "source": [
    "white_comment_number = [] #stores index/number of comments toward white people\n",
    "hispanic_comment_number = [] #stores index/number of comments toward hispanic people \n",
    "count = 1\n",
    "\n",
    "for comment in white_comment_list:\n",
    "    white_comment_number.append(count)\n",
    "    count+=1\n",
    "    \n",
    "count = 1\n",
    "\n",
    "for comment in hispanic_comment_list:\n",
    "    hispanic_comment_number.append(count)\n",
    "    count+=1"
   ]
  },
  {
   "cell_type": "code",
   "execution_count": 41,
   "metadata": {},
   "outputs": [
    {
     "data": {
      "image/png": "[encoded data removed]",
      "text/plain": [
       "<Figure size 1440x720 with 1 Axes>"
      ]
     },
     "metadata": {
      "needs_background": "light"
     },
     "output_type": "display_data"
    }
   ],
   "source": [
    "N = len(white_comment_number)\n",
    "ind = np.arange(N) \n",
    "width = 0.25\n",
    "\n",
    "bar1 = plt.bar('ind, white_score_list, width, color = 'b')\n",
    "  \n",
    "bar2 = plt.bar(ind+width, hispanic_score_list, width, color='g')\n",
    "  \n",
    "plt.xlabel(\"Comment Number\")\n",
    "plt.ylabel('Toxicity Score')\n",
    "plt.title(\"Toxicity Scores of Insulting Comments Towards White People v. Hispanic People\")\n",
    "  \n",
    "plt.xticks(ind+width,white_comment_number)\n",
    "plt.legend( (bar1, bar2), ('Comments Towards White People', 'Comments Towards Hispanic People') )\n",
    "plt.show()"
   ]
  },
  {
   "cell_type": "markdown",
   "metadata": {},
   "source": [
    "This bar chart compares the toxicity score of insulting comments given to hispanic people and white people. As shown, the majority of comments received a higher toxicity score when directed towards white people. However, both Comment 4 and Comment 11 disrupted this trend as the insulting comment directed towards hispanic people received a higher toxicity score. "
   ]
  },
  {
   "cell_type": "markdown",
   "metadata": {},
   "source": [
    "# Data Exploration"
   ]
  },
  {
   "cell_type": "markdown",
   "metadata": {},
   "source": [
    "Now that initial comparisons have been made, the insulting comments will be labeled as toxic or extremely-toxic based on their toxicity score. These labels were chosen due to the default negative nature of the comments. If a comment received a toxicity score between 0 and 0.5, it is considered toxic. If a comment received a toxicity score greater than 0.5, it is considered extremely toxic. "
   ]
  },
  {
   "cell_type": "code",
   "execution_count": 51,
   "metadata": {},
   "outputs": [],
   "source": [
    "toxic_count = 0\n",
    "ext_count = 0 \n",
    "\n",
    "for score in white_score_list:\n",
    "    if score <=0.5:\n",
    "        toxic_count+=1\n",
    "    if score > 0.5:\n",
    "        ext_count+=1\n",
    "        \n",
    "for score in hispanic_score_list:\n",
    "    if score <=0.5:\n",
    "        toxic_count+=1\n",
    "    if score > 0.5:\n",
    "        ext_count+=1"
   ]
  },
  {
   "cell_type": "code",
   "execution_count": 60,
   "metadata": {},
   "outputs": [
    {
     "name": "stdout",
     "output_type": "stream",
     "text": [
      "Number of Toxic Comments:  9\n",
      "Number of Extremely Toxic Comments:  21\n"
     ]
    }
   ],
   "source": [
    "print('Number of Toxic Comments: ', toxic_count)\n",
    "print('Number of Extremely Toxic Comments: ', ext_toxic_count)"
   ]
  },
  {
   "cell_type": "code",
   "execution_count": 58,
   "metadata": {},
   "outputs": [
    {
     "data": {
      "image/png": "[encoded data removed]",
      "text/plain": [
       "<Figure size 1440x720 with 1 Axes>"
      ]
     },
     "metadata": {
      "needs_background": "light"
     },
     "output_type": "display_data"
    }
   ],
   "source": [
    "plt.bar(['Toxic'], [toxic_count], color= 'k')\n",
    "plt.bar(['Extremely Toxic'], [ext_count], color='c')\n",
    "       \n",
    "plt.xlabel(\"Toxicity Rating\")\n",
    "plt.ylabel('Number of Comments')\n",
    "plt.title(\"Number of Comments Labeled Toxic v. Extremely Toxic\")\n",
    "  \n",
    "plt.show()"
   ]
  },
  {
   "cell_type": "markdown",
   "metadata": {},
   "source": [
    "This bar graph compares the number of comments labeled as toxic and extremely toxic. As seen the in the graph, there were more insulting comments considered to be extremely toxic than toxic. There were 9 toxic comments and 21 extremely toxic comments."
   ]
  },
  {
   "cell_type": "markdown",
   "metadata": {},
   "source": [
    "# Results"
   ]
  },
  {
   "cell_type": "markdown",
   "metadata": {},
   "source": [
    "After using the Perspective API client to score the toxicity of comments containing insults towards hispanic people and white people, the original hypothesis was supported by the analysis performed. Specifically, it was found that in most cases the Perspective API will assign a higher toxicity score to insulting comments towards white people than those left towards hispanic people. The average toxicity score of insulting comments towards white people was 0.6763. The average toxicity score of insulting comments towards hispanic people was 0.6448. \n",
    "\n",
    "Once the initial comparisons were made, the comments were labeled based on their toxicity score into two groups: toxic and extremely toxic. These labels were chosen as the created comments are insulting and negative in nature, therefore there are very low chances that a comment would be considered not toxic. If a comment scored less than or equal to 0.5 it was labeled as toxic. Any comment with a toxicity score greater than 0.5 was considered to be extremely toxic. Overall, there were 9 toxic comments and 21 extremely toxic comments. I would like to note that I attempted to create a wide variety of comments, some even including slang we may see commonly used among gen z individuals. \n",
    "\n",
    "The results of our analysis support the idea that there may be potential bias within the Perspective API. Notably, comments made towards white people may take precedence over those made towards hispanic people. These biases may exist due to a lack of good training data for this specific group. Perspective's training data possibly contained more examples of comments involving white people than other minority groups. Therefore, it can only pick up patterns.\n"
   ]
  }
 ],
 "metadata": {
  "kernelspec": {
   "display_name": "Python 3 (ipykernel)",
   "language": "python",
   "name": "python3"
  },
  "language_info": {
   "codemirror_mode": {
    "name": "ipython",
    "version": 3
   },
   "file_extension": ".py",
   "mimetype": "text/x-python",
   "name": "python",
   "nbconvert_exporter": "python",
   "pygments_lexer": "ipython3",
   "version": "3.9.12"
  }
 },
 "nbformat": 4,
 "nbformat_minor": 2
}
